{
 "cells": [
  {
   "cell_type": "code",
   "execution_count": 247,
   "metadata": {
    "collapsed": false
   },
   "outputs": [],
   "source": [
    "import pandas as pd\n",
    "import numpy as np\n",
    "from math import sqrt"
   ]
  },
  {
   "cell_type": "code",
   "execution_count": 248,
   "metadata": {
    "collapsed": false
   },
   "outputs": [],
   "source": [
    "#download the class movie reviews from here:\n",
    "#https://docs.google.com/spreadsheets/d/17rCJzmWxqvAu9rkpkgt4ToccIlY4A1Ffuu1W9X3B8Ag/\n",
    "#then read that in as a pandas dataframe"
   ]
  },
  {
   "cell_type": "code",
   "execution_count": 249,
   "metadata": {
    "collapsed": false
   },
   "outputs": [],
   "source": [
    "M = pd.read_csv(\"MovieReviews.csv\", index_col='Name')"
   ]
  },
  {
   "cell_type": "code",
   "execution_count": 250,
   "metadata": {
    "collapsed": false
   },
   "outputs": [],
   "source": [
    "# Removing nan indexes\n",
    "M = M.ix[:-3]\n",
    "index = M.index.values"
   ]
  },
  {
   "cell_type": "code",
   "execution_count": 251,
   "metadata": {
    "collapsed": false
   },
   "outputs": [],
   "source": [
    "def pearson(s1, s2):\n",
    "    \"\"\"Take two pd.Series objects and return a pearson correlation.\"\"\"\n",
    "    s1_c = s1 - s1.mean()\n",
    "    s2_c = s2 - s2.mean()\n",
    "    return np.sum(s1_c * s2_c) / np.sqrt(np.sum(s1_c ** 2) * np.sum(s2_c ** 2))"
   ]
  },
  {
   "cell_type": "code",
   "execution_count": 252,
   "metadata": {
    "collapsed": false
   },
   "outputs": [],
   "source": [
    "def get_recs(movie_name, M, num):\n",
    "\n",
    "    import numpy as np\n",
    "    reviews = []\n",
    "    for title in M.columns:\n",
    "        if title == movie_name:\n",
    "            continue\n",
    "        cor = pearson(M[movie_name], M[title])\n",
    "        if np.isnan(cor):\n",
    "            continue\n",
    "        else:\n",
    "            reviews.append((title, cor))\n",
    "    \n",
    "    reviews.sort(key=lambda tup: tup[1], reverse=True)\n",
    "    return reviews[:num]\n",
    "\n",
    "    "
   ]
  },
  {
   "cell_type": "markdown",
   "metadata": {},
   "source": [
    "###Question 1:  What movie is most Similar to 'The fault in our stars' (60 pts)\n"
   ]
  },
  {
   "cell_type": "code",
   "execution_count": 253,
   "metadata": {
    "collapsed": false
   },
   "outputs": [],
   "source": [
    "Q1 = get_recs('The Fault in Our Stars', M, 1)"
   ]
  },
  {
   "cell_type": "code",
   "execution_count": 254,
   "metadata": {
    "collapsed": false
   },
   "outputs": [
    {
     "data": {
      "text/plain": [
       "[('Malificent', 0.39873118100855826)]"
      ]
     },
     "execution_count": 254,
     "metadata": {},
     "output_type": "execute_result"
    }
   ],
   "source": [
    "# Malificent (which is actually spelled incorrectly...should be Maleficent) is most similar to \"The Fault in Our Stars\"\n",
    "Q1"
   ]
  },
  {
   "cell_type": "markdown",
   "metadata": {},
   "source": [
    "###Question 2:  Which movie(s) would you most like to see, based on your classmates experience? (40 pts)"
   ]
  },
  {
   "cell_type": "code",
   "execution_count": 255,
   "metadata": {
    "collapsed": false
   },
   "outputs": [
    {
     "data": {
      "text/plain": [
       "(73, 16)"
      ]
     },
     "execution_count": 255,
     "metadata": {},
     "output_type": "execute_result"
    }
   ],
   "source": [
    "M.shape"
   ]
  },
  {
   "cell_type": "code",
   "execution_count": 256,
   "metadata": {
    "collapsed": false
   },
   "outputs": [
    {
     "data": {
      "text/plain": [
       "[('Malificent', 0.26226430346247115),\n",
       " ('Interstellar', 0.22177313117448672),\n",
       " ('Divergent', 0.17331725497101289),\n",
       " ('The Fault in Our Stars', 0.11298392969275164),\n",
       " ('Gone Girl', 0.070310485168203027),\n",
       " ('Transformers', 0.028543823686292089),\n",
       " ('Godzilla', 0.024981686808716735),\n",
       " ('Guardians of the Galaxy', -0.023637859538798978),\n",
       " ('300: Rise of an Empire', -0.038479217627049797),\n",
       " ('How to Train your Dragon 2', -0.059165175911904386),\n",
       " ('Big Hero 6', -0.0786067182032716),\n",
       " ('The Hunger Games: Mockingjay - Part 1', -0.11287306049434476),\n",
       " ('The Lego Movie', -0.13387160543910256),\n",
       " ('The Hobbit', -0.18935397430930867),\n",
       " ('American Sniper', -0.21821936037851608)]"
      ]
     },
     "execution_count": 256,
     "metadata": {},
     "output_type": "execute_result"
    }
   ],
   "source": [
    "# Movies I would most like to see (based on classmates experience)\n",
    "\n",
    "#the movies I've seen\n",
    "my_ratings = M.ix['Heather Sanders'].dropna()\n",
    "#the movie I've rated the highest\n",
    "my_ratings.sort_values(ascending=False, inplace=True)\n",
    "#the name of the movie I've rated the highest\n",
    "fav_movie = my_ratings.index[0]\n",
    "Q2 = get_recs(fav_movie, M, 16)\n",
    "Q2"
   ]
  },
  {
   "cell_type": "code",
   "execution_count": 257,
   "metadata": {
    "collapsed": true
   },
   "outputs": [],
   "source": [
    "# These recommendations are not bad.  I would agree with several of the recommendations."
   ]
  },
  {
   "cell_type": "markdown",
   "metadata": {},
   "source": [
    "###Question 3: Bonus Question...  For all the movies you haven't seen, can you predict how you'd rate them using your the class reviews? (10 pts)"
   ]
  },
  {
   "cell_type": "code",
   "execution_count": 259,
   "metadata": {
    "collapsed": false
   },
   "outputs": [],
   "source": [
    "# I grabbed the code from here: https://dataaspirant.com/?s=recommend\n",
    "# And tweaked it quite a bit\n",
    "def pearson_correlation(person1,person2):\n",
    "    person1 = M.ix[person1]\n",
    "    person2 = M.ix[person2]\n",
    "    \n",
    "    # To get both rated items\n",
    "    p1_rated = {}\n",
    "    p2_rated = {}\n",
    "    for x in range(0, (len(person1)-1)):\n",
    "        if ~(np.isnan(person1[x])):\n",
    "            if ~(np.isnan(person2[x])):\n",
    "                p1_rated[x] = person1[x]\n",
    "                p2_rated[x] = person2[x]\n",
    "\n",
    "    number_of_ratings = len(p1_rated) \n",
    "\n",
    "    # Checking for number of ratings in common\n",
    "    if number_of_ratings == 0:\n",
    "        return 0\n",
    "\n",
    "    # Add up all the preferences of each user\n",
    "    person1_preferences_sum = sum([p1_rated[item] for item in p1_rated])\n",
    "    person2_preferences_sum = sum([p2_rated[item] for item in p2_rated])\n",
    "\n",
    "    # Sum up the squares of preferences of each user\n",
    "    person1_square_preferences_sum = sum([pow(p1_rated[item],2) for item in p1_rated])\n",
    "    person2_square_preferences_sum = sum([pow(p2_rated[item],2) for item in p2_rated])\n",
    "\n",
    "\n",
    "    # Sum up the product value of both preferences for each item\n",
    "    product_sum_of_both_users = 0\n",
    "    for x in p1_rated:\n",
    "        product = (p1_rated[x] * p2_rated[x])\n",
    "        product_sum_of_both_users += product\n",
    "\n",
    "    # Calculate the pearson score\n",
    "    numerator_value = product_sum_of_both_users - (person1_preferences_sum*person2_preferences_sum/number_of_ratings)\n",
    "    denominator_value = float(sqrt((person1_square_preferences_sum - pow(person1_preferences_sum,2)/number_of_ratings) * (person2_square_preferences_sum -pow(person2_preferences_sum,2)/number_of_ratings)))\n",
    "    if denominator_value == 0:\n",
    "        return 0\n",
    "    else:\n",
    "        r = numerator_value/float(denominator_value)\n",
    "        return r "
   ]
  },
  {
   "cell_type": "code",
   "execution_count": 260,
   "metadata": {
    "collapsed": false
   },
   "outputs": [],
   "source": [
    "def most_similar_users(person,number_of_users):\n",
    "    # returns the number_of_users (similar persons) for a given specific person.\n",
    "    scores = [(pearson_correlation(person,other_person),other_person)for other_person in index if other_person != person ]\n",
    " \n",
    "    # Sort the similar persons so that highest scores person will appear at the first\n",
    "    scores.sort()\n",
    "    scores.reverse()\n",
    "    return scores[0:number_of_users]"
   ]
  },
  {
   "cell_type": "code",
   "execution_count": 261,
   "metadata": {
    "collapsed": false,
    "scrolled": true
   },
   "outputs": [
    {
     "name": "stdout",
     "output_type": "stream",
     "text": [
      "[(1.0, 'ugesh reddy challa'), (1.0, 'sai bhargav musuluri'), (1.0, 'Aswini kumar'), (0.8703882797784892, 'Sunil Nandikanti'), (0.86602540378444015, 'Aarti Jaiswal'), (0.86602540378443849, 'Akhilesh'), (0.81649658092772615, 'Jared Knowles'), (0.77459666924148318, 'Shiva rama raju Chekuri'), (0.53452248382484924, 'Trudy Kline'), (0.53452248382484902, 'veerendra battula'), (0.53452248382484813, 'James Goodpasture'), (0.49999999999999933, 'Olumuyiwa Durojaiye'), (0.49143609346716077, 'Graham Bullard'), (0.42008402520840121, 'Anirudh'), (0.41522739926869928, 'Arun Vedere'), (0.40824829046386091, 'Syed Abbas Hussaini'), (0.37387825055298302, 'Rajesh Kinkirla'), (0.35355339059327595, 'Sai Sampath'), (0.35355339059327595, 'Aishwarya reddy'), (0.35355339059327451, 'M A Nissar'), (0.31622776601683855, 'surya chandra reddy kovvuri'), (0.25819888974716121, 'Aditya Dharmasagar'), (0.24999999999999944, 'Anirudh Thota'), (0.23830156190969951, 'HJ SONG'), (0.23809523809523808, 'solomon choppara'), (0.23372319715296225, 'Andrew Webb'), (0.19145989526687154, 'Sina Tuy'), (0.13363062095621173, 'Jonathan Doll'), (0.12909944487358013, 'Sai Sharan Vellala'), (0.063945683447923132, 'Manideep Maddipatla'), (0.060522753266880246, 'Ryan Hansen'), (0, 'siddanth sudarshan'), (0, 'sandeep katragadda'), (0, 'saikiran reddy'), (0, 'azam'), (0, 'anurag'), (0, 'Yinka Adeyemo'), (0, 'Violeta Lee Fay'), (0, 'Syed Farzan'), (0.0, 'Susan Huang'), (0, 'Sundar Prasad'), (0, 'Shannon Morrison'), (0, 'Sara Collins'), (0, 'Pavithra Shetty'), (0, 'Onsiri Tapsarn'), (0, 'Mike'), (0, 'Michael Cooper'), (0.0, 'Maheshwar Reddy'), (0, 'Josna Rajan'), (0, 'Jessica Fong'), (0, 'Jake Metzger'), (0, 'J A Barnes'), (0, 'Harish Kallianpur'), (0, 'Greg Werner'), (0, 'Evan Piercy'), (0, 'David Reyling'), (0, 'David Huang'), (0, 'Charlie'), (0, 'Anusha Putta'), (0, 'Ahmed Muheebuddin'), (0, 'Adrian Cavallaris'), (-0.13363062095621173, 'Brant Mullinix'), (-0.22941573387056174, 'krishna sai'), (-0.24258958179451665, 'Suyendra'), (-0.28933678959466042, 'Ashutosh Sureka'), (-0.29086101868023956, 'Benjamin Baysinger'), (-0.34921514788478836, 'Thomas Podlipni'), (-0.3823529411764699, 'Tyler Vitanova'), (-0.43386091563731188, 'Bradley Brubaker'), (-0.5204164998665356, 'Venkatesh Komma'), (-0.57735026918962584, 'Sai Yallapragada'), (-0.59164450070270602, 'Bhuvana Posina')]\n"
     ]
    }
   ],
   "source": [
    "print most_similar_users('Heather Sanders', 73)"
   ]
  },
  {
   "cell_type": "code",
   "execution_count": 262,
   "metadata": {
    "collapsed": false
   },
   "outputs": [
    {
     "name": "stdout",
     "output_type": "stream",
     "text": [
      "Recommendations for Heather\n",
      "['Interstellar', 'Godzilla', 'American Sniper', 'Guardians of the Galaxy', 'Gone Girl']\n"
     ]
    }
   ],
   "source": [
    "def user_recommendations(person):\n",
    "    p1 = M.ix[person]\n",
    "    # Gets recommendations for a person by using a weighted average of every other user's rankings\n",
    "    totals = {}\n",
    "    simSums = {}\n",
    "    rankings_list =[]\n",
    "    for other in index:\n",
    "        p2 = M.ix[other]\n",
    "\n",
    "        # don't compare me to myself\n",
    "        if other == person:\n",
    "            continue\n",
    "        sim = float(pearson_correlation(person,other))\n",
    "\n",
    "        # ignore scores of zero or lower\n",
    "        if sim <=0:\n",
    "            continue\n",
    "            \n",
    "        for x in range(0, len(p2)-1):\n",
    "            if np.isnan(p1[x]):\n",
    "                if ~(np.isnan(p2[x])):\n",
    "                    # Similarity * score\n",
    "                    prod = p2[x] * sim\n",
    "                    totals.update({p2.index[x]: prod})\n",
    "                    # sum of similarities\n",
    "                    simSums.update({p2.index[x]: sim})\n",
    "                    \n",
    "    # Create the normalized list\n",
    "\n",
    "    rankings = [(total/simSums[item],item) for item,total in totals.items()]\n",
    "    rankings.sort()\n",
    "    rankings.reverse()\n",
    "    # returns the recommended items\n",
    "    \n",
    "    recommendataions_list = [recommend_item for score,recommend_item in rankings]\n",
    "    return recommendataions_list\n",
    "    \n",
    "print \"Recommendations for Heather\"\n",
    "print user_recommendations('Heather Sanders')"
   ]
  },
  {
   "cell_type": "code",
   "execution_count": null,
   "metadata": {
    "collapsed": true
   },
   "outputs": [],
   "source": []
  }
 ],
 "metadata": {
  "kernelspec": {
   "display_name": "Python 2",
   "language": "python",
   "name": "python2"
  },
  "language_info": {
   "codemirror_mode": {
    "name": "ipython",
    "version": 2
   },
   "file_extension": ".py",
   "mimetype": "text/x-python",
   "name": "python",
   "nbconvert_exporter": "python",
   "pygments_lexer": "ipython2",
   "version": "2.7.11"
  }
 },
 "nbformat": 4,
 "nbformat_minor": 0
}
